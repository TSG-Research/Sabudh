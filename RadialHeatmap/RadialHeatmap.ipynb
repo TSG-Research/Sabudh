{
 "cells": [
  {
   "cell_type": "code",
   "execution_count": 1,
   "metadata": {},
   "outputs": [],
   "source": [
    "import numpy as np\n",
    "import pandas as pd"
   ]
  },
  {
   "cell_type": "code",
   "execution_count": 2,
   "metadata": {},
   "outputs": [],
   "source": [
    "data = pd.read_excel('data.xlsx')"
   ]
  },
  {
   "cell_type": "code",
   "execution_count": 3,
   "metadata": {},
   "outputs": [
    {
     "data": {
      "text/html": [
       "<div>\n",
       "<style scoped>\n",
       "    .dataframe tbody tr th:only-of-type {\n",
       "        vertical-align: middle;\n",
       "    }\n",
       "\n",
       "    .dataframe tbody tr th {\n",
       "        vertical-align: top;\n",
       "    }\n",
       "\n",
       "    .dataframe thead th {\n",
       "        text-align: right;\n",
       "    }\n",
       "</style>\n",
       "<table border=\"1\" class=\"dataframe\">\n",
       "  <thead>\n",
       "    <tr style=\"text-align: right;\">\n",
       "      <th></th>\n",
       "      <th>Sr.No.</th>\n",
       "      <th>FIR No.</th>\n",
       "      <th>IPC</th>\n",
       "      <th>Date of Offence</th>\n",
       "      <th>Date of FIR</th>\n",
       "      <th>Police Station</th>\n",
       "      <th>Day</th>\n",
       "      <th>Time of Offence</th>\n",
       "      <th>First Vehicle</th>\n",
       "      <th>Fatalities</th>\n",
       "      <th>...</th>\n",
       "      <th>Maneuver type as per FIR</th>\n",
       "      <th>Place/Location of Occurrence</th>\n",
       "      <th>Total Fatalities</th>\n",
       "      <th>Total Serious</th>\n",
       "      <th>Total Minor</th>\n",
       "      <th>Latitude</th>\n",
       "      <th>Longitude</th>\n",
       "      <th>Road Name</th>\n",
       "      <th>Road Number</th>\n",
       "      <th>Rural/Urban</th>\n",
       "    </tr>\n",
       "  </thead>\n",
       "  <tbody>\n",
       "    <tr>\n",
       "      <th>0</th>\n",
       "      <td>1</td>\n",
       "      <td>3</td>\n",
       "      <td>283,304-A,427,337</td>\n",
       "      <td>2017-01-02</td>\n",
       "      <td>2017-01-02</td>\n",
       "      <td>Kiratpur Sahib</td>\n",
       "      <td>1900-01-02</td>\n",
       "      <td>12:45:00</td>\n",
       "      <td>Bus/Truck</td>\n",
       "      <td>0</td>\n",
       "      <td>...</td>\n",
       "      <td>Rough Driving</td>\n",
       "      <td>Bharatgarh</td>\n",
       "      <td>2</td>\n",
       "      <td>2</td>\n",
       "      <td>0</td>\n",
       "      <td>31.0987</td>\n",
       "      <td>76.6135</td>\n",
       "      <td>NH</td>\n",
       "      <td>NH-205</td>\n",
       "      <td>Rural</td>\n",
       "    </tr>\n",
       "    <tr>\n",
       "      <th>1</th>\n",
       "      <td>2</td>\n",
       "      <td>4</td>\n",
       "      <td>279,304-A</td>\n",
       "      <td>2017-01-06</td>\n",
       "      <td>2017-01-07</td>\n",
       "      <td>Kiratpur Sahib</td>\n",
       "      <td>1900-01-06</td>\n",
       "      <td>00:00:00</td>\n",
       "      <td>Unknown</td>\n",
       "      <td>0</td>\n",
       "      <td>...</td>\n",
       "      <td>Over Speeding</td>\n",
       "      <td>Dolowal</td>\n",
       "      <td>1</td>\n",
       "      <td>0</td>\n",
       "      <td>0</td>\n",
       "      <td>31.1844</td>\n",
       "      <td>76.5721</td>\n",
       "      <td>NH</td>\n",
       "      <td>NH-205</td>\n",
       "      <td>Rural</td>\n",
       "    </tr>\n",
       "    <tr>\n",
       "      <th>2</th>\n",
       "      <td>3</td>\n",
       "      <td>8</td>\n",
       "      <td>279,304-A,427</td>\n",
       "      <td>2017-01-20</td>\n",
       "      <td>2017-01-21</td>\n",
       "      <td>Kiratpur Sahib</td>\n",
       "      <td>1900-01-06</td>\n",
       "      <td>20:30:00</td>\n",
       "      <td>Car/Jeep/Van</td>\n",
       "      <td>0</td>\n",
       "      <td>...</td>\n",
       "      <td>Over Speeding</td>\n",
       "      <td>Sarsa Nangal</td>\n",
       "      <td>2</td>\n",
       "      <td>0</td>\n",
       "      <td>0</td>\n",
       "      <td>31.0619</td>\n",
       "      <td>76.5998</td>\n",
       "      <td>NH</td>\n",
       "      <td>NH-205</td>\n",
       "      <td>Rural</td>\n",
       "    </tr>\n",
       "    <tr>\n",
       "      <th>3</th>\n",
       "      <td>4</td>\n",
       "      <td>11</td>\n",
       "      <td>279,304-A</td>\n",
       "      <td>2017-01-20</td>\n",
       "      <td>2017-01-22</td>\n",
       "      <td>Kiratpur Sahib</td>\n",
       "      <td>1900-01-06</td>\n",
       "      <td>11:00:00</td>\n",
       "      <td>Two Wheeler</td>\n",
       "      <td>0</td>\n",
       "      <td>...</td>\n",
       "      <td>Over Speeding</td>\n",
       "      <td>Hardonimoh</td>\n",
       "      <td>1</td>\n",
       "      <td>0</td>\n",
       "      <td>0</td>\n",
       "      <td>31.1607</td>\n",
       "      <td>76.5904</td>\n",
       "      <td>Link Road</td>\n",
       "      <td>Link Road</td>\n",
       "      <td>Rural</td>\n",
       "    </tr>\n",
       "    <tr>\n",
       "      <th>4</th>\n",
       "      <td>5</td>\n",
       "      <td>18</td>\n",
       "      <td>279,304-A,427</td>\n",
       "      <td>2017-02-01</td>\n",
       "      <td>2017-02-03</td>\n",
       "      <td>Kiratpur Sahib</td>\n",
       "      <td>1900-01-04</td>\n",
       "      <td>19:40:00</td>\n",
       "      <td>Bus/Truck</td>\n",
       "      <td>0</td>\n",
       "      <td>...</td>\n",
       "      <td>Over Speeding</td>\n",
       "      <td>Dolowal</td>\n",
       "      <td>1</td>\n",
       "      <td>0</td>\n",
       "      <td>0</td>\n",
       "      <td>31.1844</td>\n",
       "      <td>76.5721</td>\n",
       "      <td>NH</td>\n",
       "      <td>NH-205</td>\n",
       "      <td>Urban</td>\n",
       "    </tr>\n",
       "  </tbody>\n",
       "</table>\n",
       "<p>5 rows × 29 columns</p>\n",
       "</div>"
      ],
      "text/plain": [
       "   Sr.No.  FIR No.                 IPC Date of Offence Date of FIR  \\\n",
       "0       1        3  283,304-A,427,337       2017-01-02  2017-01-02   \n",
       "1       2        4           279,304-A      2017-01-06  2017-01-07   \n",
       "2       3        8       279,304-A,427      2017-01-20  2017-01-21   \n",
       "3       4       11           279,304-A      2017-01-20  2017-01-22   \n",
       "4       5       18       279,304-A,427      2017-02-01  2017-02-03   \n",
       "\n",
       "   Police Station        Day Time of Offence First Vehicle  Fatalities  \\\n",
       "0  Kiratpur Sahib 1900-01-02        12:45:00     Bus/Truck           0   \n",
       "1  Kiratpur Sahib 1900-01-06        00:00:00       Unknown           0   \n",
       "2  Kiratpur Sahib 1900-01-06        20:30:00  Car/Jeep/Van           0   \n",
       "3  Kiratpur Sahib 1900-01-06        11:00:00   Two Wheeler           0   \n",
       "4  Kiratpur Sahib 1900-01-04        19:40:00     Bus/Truck           0   \n",
       "\n",
       "      ...      Maneuver type as per FIR  Place/Location of Occurrence  \\\n",
       "0     ...                 Rough Driving                    Bharatgarh   \n",
       "1     ...                 Over Speeding                       Dolowal   \n",
       "2     ...                 Over Speeding                  Sarsa Nangal   \n",
       "3     ...                 Over Speeding                    Hardonimoh   \n",
       "4     ...                 Over Speeding                       Dolowal   \n",
       "\n",
       "  Total Fatalities  Total Serious   Total Minor  Latitude Longitude  \\\n",
       "0                2               2            0   31.0987   76.6135   \n",
       "1                1               0            0   31.1844   76.5721   \n",
       "2                2               0            0   31.0619   76.5998   \n",
       "3                1               0            0   31.1607   76.5904   \n",
       "4                1               0            0   31.1844   76.5721   \n",
       "\n",
       "   Road Name  Road Number Rural/Urban  \n",
       "0          NH      NH-205       Rural  \n",
       "1          NH      NH-205       Rural  \n",
       "2          NH      NH-205       Rural  \n",
       "3   Link Road   Link Road       Rural  \n",
       "4          NH      NH-205       Urban  \n",
       "\n",
       "[5 rows x 29 columns]"
      ]
     },
     "execution_count": 3,
     "metadata": {},
     "output_type": "execute_result"
    }
   ],
   "source": [
    "data.head()"
   ]
  },
  {
   "cell_type": "code",
   "execution_count": 4,
   "metadata": {},
   "outputs": [],
   "source": [
    "X = data[['Type of Collision', 'Police Station', 'Total Fatalities']]"
   ]
  },
  {
   "cell_type": "code",
   "execution_count": 5,
   "metadata": {},
   "outputs": [
    {
     "name": "stderr",
     "output_type": "stream",
     "text": [
      "C:\\Users\\Anirudh\\Anaconda3\\lib\\site-packages\\ipykernel_launcher.py:1: SettingWithCopyWarning: \n",
      "A value is trying to be set on a copy of a slice from a DataFrame.\n",
      "Try using .loc[row_indexer,col_indexer] = value instead\n",
      "\n",
      "See the caveats in the documentation: http://pandas.pydata.org/pandas-docs/stable/indexing.html#indexing-view-versus-copy\n",
      "  \"\"\"Entry point for launching an IPython kernel.\n"
     ]
    }
   ],
   "source": [
    "X['Type of Collision'] = [x.lower() for x in X['Type of Collision']]"
   ]
  },
  {
   "cell_type": "code",
   "execution_count": 6,
   "metadata": {},
   "outputs": [],
   "source": [
    "X = X.rename(columns={'Type of Collision' : 'type_of_collision', 'Total Fatalities':'tot_fatalities', \n",
    "                     'Police Station':'police_station'})"
   ]
  },
  {
   "cell_type": "code",
   "execution_count": 7,
   "metadata": {},
   "outputs": [],
   "source": [
    "X['type_of_collision'] = X['type_of_collision'].str.strip(' ')"
   ]
  },
  {
   "cell_type": "code",
   "execution_count": 8,
   "metadata": {},
   "outputs": [
    {
     "data": {
      "text/html": [
       "<div>\n",
       "<style scoped>\n",
       "    .dataframe tbody tr th:only-of-type {\n",
       "        vertical-align: middle;\n",
       "    }\n",
       "\n",
       "    .dataframe tbody tr th {\n",
       "        vertical-align: top;\n",
       "    }\n",
       "\n",
       "    .dataframe thead th {\n",
       "        text-align: right;\n",
       "    }\n",
       "</style>\n",
       "<table border=\"1\" class=\"dataframe\">\n",
       "  <thead>\n",
       "    <tr style=\"text-align: right;\">\n",
       "      <th></th>\n",
       "      <th>type_of_collision</th>\n",
       "      <th>police_station</th>\n",
       "      <th>tot_fatalities</th>\n",
       "    </tr>\n",
       "  </thead>\n",
       "  <tbody>\n",
       "    <tr>\n",
       "      <th>0</th>\n",
       "      <td>hit from back</td>\n",
       "      <td>Kiratpur Sahib</td>\n",
       "      <td>2</td>\n",
       "    </tr>\n",
       "    <tr>\n",
       "      <th>1</th>\n",
       "      <td>hit and run</td>\n",
       "      <td>Kiratpur Sahib</td>\n",
       "      <td>1</td>\n",
       "    </tr>\n",
       "    <tr>\n",
       "      <th>2</th>\n",
       "      <td>hit and run</td>\n",
       "      <td>Kiratpur Sahib</td>\n",
       "      <td>2</td>\n",
       "    </tr>\n",
       "    <tr>\n",
       "      <th>3</th>\n",
       "      <td>head on</td>\n",
       "      <td>Kiratpur Sahib</td>\n",
       "      <td>1</td>\n",
       "    </tr>\n",
       "    <tr>\n",
       "      <th>4</th>\n",
       "      <td>hit from back</td>\n",
       "      <td>Kiratpur Sahib</td>\n",
       "      <td>1</td>\n",
       "    </tr>\n",
       "  </tbody>\n",
       "</table>\n",
       "</div>"
      ],
      "text/plain": [
       "  type_of_collision  police_station  tot_fatalities\n",
       "0     hit from back  Kiratpur Sahib               2\n",
       "1       hit and run  Kiratpur Sahib               1\n",
       "2       hit and run  Kiratpur Sahib               2\n",
       "3           head on  Kiratpur Sahib               1\n",
       "4     hit from back  Kiratpur Sahib               1"
      ]
     },
     "execution_count": 8,
     "metadata": {},
     "output_type": "execute_result"
    }
   ],
   "source": [
    "X.head()"
   ]
  },
  {
   "cell_type": "code",
   "execution_count": 9,
   "metadata": {},
   "outputs": [
    {
     "data": {
      "text/plain": [
       "array(['hit from back', 'hit and run', 'head on', 'hit from side',\n",
       "       'hit pedestrian', 'unknown', 'hit cyclist', 'sideswipe',\n",
       "       'hit fixed object', 'head on tail'], dtype=object)"
      ]
     },
     "execution_count": 9,
     "metadata": {},
     "output_type": "execute_result"
    }
   ],
   "source": [
    "X['type_of_collision'].unique()"
   ]
  },
  {
   "cell_type": "code",
   "execution_count": 10,
   "metadata": {},
   "outputs": [
    {
     "data": {
      "text/plain": [
       "array(['Kiratpur Sahib', 'Chamkaur Sahib', 'City Ropar', 'Morinda',\n",
       "       'Nurpur Bedi', 'Sadar Roopnagar', 'Singh Bhagwantpura ',\n",
       "       'Anandpur Sahib ', 'Nangal'], dtype=object)"
      ]
     },
     "execution_count": 10,
     "metadata": {},
     "output_type": "execute_result"
    }
   ],
   "source": [
    "X['police_station'].unique()"
   ]
  },
  {
   "cell_type": "code",
   "execution_count": 11,
   "metadata": {},
   "outputs": [],
   "source": [
    "pol_stat = ['Kiratpur Sahib', 'Chamkaur Sahib', 'City Ropar', 'Morinda',\n",
    "       'Nurpur Bedi', 'Sadar Roopnagar', 'Singh Bhagwantpura ',\n",
    "       'Anandpur Sahib ', 'Nangal']"
   ]
  },
  {
   "cell_type": "code",
   "execution_count": 12,
   "metadata": {},
   "outputs": [],
   "source": [
    "col_l = ['hit from back', 'hit and run', \n",
    "       'head on', 'hit from side','hit pedestrian', \n",
    "       'unknown', 'hit cyclist', 'sideswipe',\n",
    "       'hit fixed object', 'head on tail']"
   ]
  },
  {
   "cell_type": "code",
   "execution_count": 13,
   "metadata": {},
   "outputs": [],
   "source": [
    "col_l_k = []\n",
    "col_l_c = []\n",
    "col_l_cr = []\n",
    "col_l_m = []\n",
    "col_l_nb = []\n",
    "col_l_sr = []\n",
    "col_l_sb = []\n",
    "col_l_as = []\n",
    "col_l_na = []"
   ]
  },
  {
   "cell_type": "code",
   "execution_count": 14,
   "metadata": {},
   "outputs": [],
   "source": [
    "# def check(data):\n",
    "    \n",
    "#     col = data[''][i]\n",
    "#     pol = data[1]\n",
    "#     fat = data[2]\n",
    "    \n",
    "#     if pol == 'Kiratpur Sahib':\n",
    "#         col_l_k.append(col)\n",
    "#     elif pol == 'Chamkaur Sahib':\n",
    "#         col_l_c.append(col)\n",
    "#     elif pol == 'City Ropar':\n",
    "#         col_l_cr.append(col)\n",
    "#     elif pol == 'Morinda':\n",
    "#         col_l_m.append(col)\n",
    "#     elif pol == 'Nurpur Bedi':\n",
    "#         col_l_nb.append(col)\n",
    "#     elif pol == 'Sadar Roopnagar':\n",
    "#         col_l_sr.append(col)\n",
    "#     elif pol == 'Singh Bhagwantpura ':\n",
    "#         col_l_sb.append(col)\n",
    "#     elif pol == 'Anandpur Sahib ':\n",
    "#         col_l_as.append(col)\n",
    "#     elif pol == 'Nangal':\n",
    "#         col_l_na.append(col)"
   ]
  },
  {
   "cell_type": "code",
   "execution_count": 15,
   "metadata": {},
   "outputs": [
    {
     "data": {
      "text/plain": [
       "(217, 3)"
      ]
     },
     "execution_count": 15,
     "metadata": {},
     "output_type": "execute_result"
    }
   ],
   "source": [
    "X.shape"
   ]
  },
  {
   "cell_type": "code",
   "execution_count": 16,
   "metadata": {},
   "outputs": [],
   "source": [
    "for _, row in X.iterrows():\n",
    "    pol = row['police_station']\n",
    "    col = row['type_of_collision']\n",
    "    \n",
    "    \n",
    "    if pol == 'Kiratpur Sahib':\n",
    "        col_l_k.append(col)\n",
    "    elif pol == 'Chamkaur Sahib':\n",
    "        col_l_c.append(col)\n",
    "    elif pol == 'City Ropar':\n",
    "        col_l_cr.append(col)\n",
    "    elif pol == 'Morinda':\n",
    "        col_l_m.append(col)\n",
    "    elif pol == 'Nurpur Bedi':\n",
    "        col_l_nb.append(col)\n",
    "    elif pol == 'Sadar Roopnagar':\n",
    "        col_l_sr.append(col)\n",
    "    elif pol == 'Singh Bhagwantpura ':\n",
    "        col_l_sb.append(col)\n",
    "    elif pol == 'Anandpur Sahib ':\n",
    "        col_l_as.append(col)\n",
    "    elif pol == 'Nangal':\n",
    "        col_l_na.append(col)"
   ]
  },
  {
   "cell_type": "code",
   "execution_count": 17,
   "metadata": {},
   "outputs": [
    {
     "data": {
      "text/plain": [
       "['hit from back', 'hit and run', 'hit from side', 'head on']"
      ]
     },
     "execution_count": 17,
     "metadata": {},
     "output_type": "execute_result"
    }
   ],
   "source": [
    "list(set(col_l_k))"
   ]
  },
  {
   "cell_type": "code",
   "execution_count": 18,
   "metadata": {},
   "outputs": [],
   "source": [
    "col_l_k = list(set(col_l_k))\n",
    "col_l_c = list(set(col_l_c))\n",
    "col_l_cr = list(set(col_l_cr))\n",
    "col_l_m = list(set(col_l_m))\n",
    "col_l_nb = list(set(col_l_nb))\n",
    "col_l_sr = list(set(col_l_sr))\n",
    "col_l_sb = list(set(col_l_sb))\n",
    "col_l_as = list(set(col_l_as))\n",
    "col_l_na = list(set(col_l_na))"
   ]
  },
  {
   "cell_type": "code",
   "execution_count": 19,
   "metadata": {},
   "outputs": [],
   "source": [
    "nt_col_k = [e for e in col_l if e not in col_l_k]\n",
    "nt_col_c = [e for e in col_l if e not in col_l_c]\n",
    "nt_col_cr = [e for e in col_l if e not in col_l_cr]\n",
    "nt_col_m = [e for e in col_l if e not in col_l_m]\n",
    "nt_col_nb = [e for e in col_l if e not in col_l_nb]\n",
    "nt_col_sr = [e for e in col_l if e not in col_l_sr]\n",
    "nt_col_sb = [e for e in col_l if e not in col_l_sb]\n",
    "nt_col_as = [e for e in col_l if e not in col_l_as]\n",
    "nt_col_na = [e for e in col_l if e not in col_l_na]"
   ]
  },
  {
   "cell_type": "code",
   "execution_count": 20,
   "metadata": {},
   "outputs": [
    {
     "name": "stdout",
     "output_type": "stream",
     "text": [
      "hit pedestrian\n",
      "unknown\n",
      "hit cyclist\n",
      "sideswipe\n",
      "hit fixed object\n",
      "head on tail\n"
     ]
    }
   ],
   "source": [
    "for i in range(0,len(nt_col_k)):\n",
    "    print(nt_col_k[i])\n",
    "    X = X.append(pd.DataFrame([[nt_col_k[i], 'Kiratpur Sahib', 0]], columns=['type_of_collision', 'police_station', 'tot_fatalities']), ignore_index=True)"
   ]
  },
  {
   "cell_type": "code",
   "execution_count": 21,
   "metadata": {},
   "outputs": [
    {
     "data": {
      "text/plain": [
       "['hit and run', 'hit from side', 'unknown', 'hit cyclist']"
      ]
     },
     "execution_count": 21,
     "metadata": {},
     "output_type": "execute_result"
    }
   ],
   "source": [
    "nt_col_as"
   ]
  },
  {
   "cell_type": "code",
   "execution_count": 22,
   "metadata": {},
   "outputs": [
    {
     "data": {
      "text/plain": [
       "['sideswipe',\n",
       " 'head on',\n",
       " 'hit pedestrian',\n",
       " 'hit fixed object',\n",
       " 'hit from back',\n",
       " 'head on tail']"
      ]
     },
     "execution_count": 22,
     "metadata": {},
     "output_type": "execute_result"
    }
   ],
   "source": [
    "col_l_as"
   ]
  },
  {
   "cell_type": "code",
   "execution_count": 23,
   "metadata": {},
   "outputs": [],
   "source": [
    "for i in range(len(nt_col_c)):\n",
    "    X = X.append(pd.DataFrame([[nt_col_c[i], 'Chamkaur Sahib', 0]], columns=['type_of_collision', 'police_station', 'tot_fatalities']), ignore_index=True)"
   ]
  },
  {
   "cell_type": "code",
   "execution_count": 24,
   "metadata": {},
   "outputs": [],
   "source": [
    "for i in range(len(nt_col_cr)):\n",
    "    X = X.append(pd.DataFrame([[nt_col_cr[i], 'City Ropar', 0]], columns=['type_of_collision', 'police_station', 'tot_fatalities']), ignore_index=True)"
   ]
  },
  {
   "cell_type": "code",
   "execution_count": 25,
   "metadata": {},
   "outputs": [],
   "source": [
    "for i in range(len(nt_col_m)):\n",
    "    X = X.append(pd.DataFrame([[nt_col_m[i], 'Morinda', 0]], columns=['type_of_collision', 'police_station', 'tot_fatalities']), ignore_index=True)"
   ]
  },
  {
   "cell_type": "code",
   "execution_count": 26,
   "metadata": {},
   "outputs": [],
   "source": [
    "for i in range(len(nt_col_nb)):\n",
    "    X = X.append(pd.DataFrame([[nt_col_nb[i], 'Nurpur Bedi', 0]], columns=['type_of_collision', 'police_station', 'tot_fatalities']), ignore_index=True)"
   ]
  },
  {
   "cell_type": "code",
   "execution_count": 27,
   "metadata": {},
   "outputs": [],
   "source": [
    "for i in range(len(nt_col_sr)):\n",
    "    X = X.append(pd.DataFrame([[nt_col_sr[i], 'Sadar Roopnagar', 0]], columns=['type_of_collision', 'police_station', 'tot_fatalities']), ignore_index=True)"
   ]
  },
  {
   "cell_type": "code",
   "execution_count": 28,
   "metadata": {},
   "outputs": [],
   "source": [
    "for i in range(len(nt_col_sb)):\n",
    "    X = X.append(pd.DataFrame([[nt_col_sb[i], 'Singh Bhagwantpura ', 0]], columns=['type_of_collision', 'police_station', 'tot_fatalities']), ignore_index=True)"
   ]
  },
  {
   "cell_type": "code",
   "execution_count": 29,
   "metadata": {},
   "outputs": [],
   "source": [
    "for i in range(len(nt_col_as)):\n",
    "    X = X.append(pd.DataFrame([[nt_col_as[i], 'Anandpur Sahib ', 0]], columns=['type_of_collision', 'police_station', 'tot_fatalities']), ignore_index=True)"
   ]
  },
  {
   "cell_type": "code",
   "execution_count": 30,
   "metadata": {},
   "outputs": [],
   "source": [
    "for i in range(len(nt_col_na)):\n",
    "    X = X.append(pd.DataFrame([[nt_col_na[i], 'Nangal', 0]], columns=['type_of_collision', 'police_station', 'tot_fatalities']), ignore_index=True)"
   ]
  },
  {
   "cell_type": "code",
   "execution_count": 31,
   "metadata": {},
   "outputs": [
    {
     "data": {
      "text/plain": [
       "array(['Kiratpur Sahib', 'Chamkaur Sahib', 'City Ropar', 'Morinda',\n",
       "       'Nurpur Bedi', 'Sadar Roopnagar', 'Singh Bhagwantpura ',\n",
       "       'Anandpur Sahib ', 'Nangal'], dtype=object)"
      ]
     },
     "execution_count": 31,
     "metadata": {},
     "output_type": "execute_result"
    }
   ],
   "source": [
    "X['police_station'].unique()"
   ]
  },
  {
   "cell_type": "code",
   "execution_count": 32,
   "metadata": {},
   "outputs": [
    {
     "data": {
      "text/html": [
       "<div>\n",
       "<style scoped>\n",
       "    .dataframe tbody tr th:only-of-type {\n",
       "        vertical-align: middle;\n",
       "    }\n",
       "\n",
       "    .dataframe tbody tr th {\n",
       "        vertical-align: top;\n",
       "    }\n",
       "\n",
       "    .dataframe thead th {\n",
       "        text-align: right;\n",
       "    }\n",
       "</style>\n",
       "<table border=\"1\" class=\"dataframe\">\n",
       "  <thead>\n",
       "    <tr style=\"text-align: right;\">\n",
       "      <th></th>\n",
       "      <th>type_of_collision</th>\n",
       "      <th>tot_fatalities</th>\n",
       "    </tr>\n",
       "    <tr>\n",
       "      <th>police_station</th>\n",
       "      <th></th>\n",
       "      <th></th>\n",
       "    </tr>\n",
       "  </thead>\n",
       "  <tbody>\n",
       "    <tr>\n",
       "      <th>Anandpur Sahib</th>\n",
       "      <td>hit pedestrian</td>\n",
       "      <td>1</td>\n",
       "    </tr>\n",
       "    <tr>\n",
       "      <th>Chamkaur Sahib</th>\n",
       "      <td>hit pedestrian</td>\n",
       "      <td>0</td>\n",
       "    </tr>\n",
       "    <tr>\n",
       "      <th>City Ropar</th>\n",
       "      <td>head on</td>\n",
       "      <td>0</td>\n",
       "    </tr>\n",
       "    <tr>\n",
       "      <th>Kiratpur Sahib</th>\n",
       "      <td>hit from back</td>\n",
       "      <td>2</td>\n",
       "    </tr>\n",
       "    <tr>\n",
       "      <th>Morinda</th>\n",
       "      <td>head on</td>\n",
       "      <td>1</td>\n",
       "    </tr>\n",
       "    <tr>\n",
       "      <th>Nangal</th>\n",
       "      <td>head on</td>\n",
       "      <td>0</td>\n",
       "    </tr>\n",
       "    <tr>\n",
       "      <th>Nurpur Bedi</th>\n",
       "      <td>head on</td>\n",
       "      <td>1</td>\n",
       "    </tr>\n",
       "    <tr>\n",
       "      <th>Sadar Roopnagar</th>\n",
       "      <td>hit pedestrian</td>\n",
       "      <td>1</td>\n",
       "    </tr>\n",
       "    <tr>\n",
       "      <th>Singh Bhagwantpura</th>\n",
       "      <td>hit pedestrian</td>\n",
       "      <td>1</td>\n",
       "    </tr>\n",
       "  </tbody>\n",
       "</table>\n",
       "</div>"
      ],
      "text/plain": [
       "                    type_of_collision  tot_fatalities\n",
       "police_station                                       \n",
       "Anandpur Sahib         hit pedestrian               1\n",
       "Chamkaur Sahib         hit pedestrian               0\n",
       "City Ropar                    head on               0\n",
       "Kiratpur Sahib          hit from back               2\n",
       "Morinda                       head on               1\n",
       "Nangal                        head on               0\n",
       "Nurpur Bedi                   head on               1\n",
       "Sadar Roopnagar        hit pedestrian               1\n",
       "Singh Bhagwantpura     hit pedestrian               1"
      ]
     },
     "execution_count": 32,
     "metadata": {},
     "output_type": "execute_result"
    }
   ],
   "source": [
    "X.groupby('police_station').first()"
   ]
  },
  {
   "cell_type": "code",
   "execution_count": 33,
   "metadata": {},
   "outputs": [],
   "source": [
    "# X.groupby(['police_station', 'type_of_collision']).tot_fatalities.count()"
   ]
  },
  {
   "cell_type": "code",
   "execution_count": 34,
   "metadata": {},
   "outputs": [],
   "source": [
    "x = X.groupby(['type_of_collision', 'police_station']).sum().reset_index()"
   ]
  },
  {
   "cell_type": "code",
   "execution_count": 36,
   "metadata": {
    "scrolled": true
   },
   "outputs": [],
   "source": [
    "df = pd.DataFrame()"
   ]
  },
  {
   "cell_type": "code",
   "execution_count": 37,
   "metadata": {},
   "outputs": [],
   "source": [
    "x['type_of_collision'] = x['type_of_collision'].str.title()"
   ]
  },
  {
   "cell_type": "code",
   "execution_count": 39,
   "metadata": {},
   "outputs": [],
   "source": [
    "df[['Police_Station', 'type', 'value']] = x[['police_station', 'type_of_collision', 'tot_fatalities']]"
   ]
  },
  {
   "cell_type": "code",
   "execution_count": 41,
   "metadata": {},
   "outputs": [],
   "source": [
    "df.to_csv('radial_heat.csv', index=False)"
   ]
  }
 ],
 "metadata": {
  "kernelspec": {
   "display_name": "Python 3",
   "language": "python",
   "name": "python3"
  },
  "language_info": {
   "codemirror_mode": {
    "name": "ipython",
    "version": 3
   },
   "file_extension": ".py",
   "mimetype": "text/x-python",
   "name": "python",
   "nbconvert_exporter": "python",
   "pygments_lexer": "ipython3",
   "version": "3.6.5"
  }
 },
 "nbformat": 4,
 "nbformat_minor": 2
}
